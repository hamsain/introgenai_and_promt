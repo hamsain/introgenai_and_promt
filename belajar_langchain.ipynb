{
 "cells": [
  {
   "cell_type": "code",
   "execution_count": 5,
   "metadata": {},
   "outputs": [],
   "source": [
    "from langchain.chains import LLMChain\n",
    "from langchain.memory import ConversationBufferWindowMemory"
   ]
  },
  {
   "cell_type": "code",
   "execution_count": 7,
   "metadata": {},
   "outputs": [],
   "source": [
    "from langchain_core.prompts.chat import (\n",
    "    ChatPromptTemplate,\n",
    "    HumanMessagePromptTemplate,\n",
    "    MessagesPlaceholder,\n",
    ")\n",
    "from langchain_groq import ChatGroq\n",
    "\n",
    "prompt = ChatPromptTemplate(\n",
    "    [\n",
    "        MessagesPlaceholder(variable_name=\"chat_history\"),\n",
    "        HumanMessagePromptTemplate.from_template(\"{text}\"),\n",
    "    ]\n",
    ")\n",
    "\n",
    "memory = ConversationBufferWindowMemory(memory_key=\"chat_history\", return_messages=True, k=2)\n",
    "\n",
    "model = 'llama3-70b-8192'\n",
    "\n",
    "legacy_chain = LLMChain(\n",
    "    llm=ChatGroq(model=model),\n",
    "    prompt=prompt,\n",
    "    memory=memory,\n",
    ")"
   ]
  },
  {
   "cell_type": "code",
   "execution_count": 8,
   "metadata": {},
   "outputs": [
    {
     "data": {
      "text/plain": [
       "{'text': 'Hallo Hamdi! Selamat datang! Bagaimana kabar hari ini?',\n",
       " 'chat_history': []}"
      ]
     },
     "execution_count": 8,
     "metadata": {},
     "output_type": "execute_result"
    }
   ],
   "source": [
    "legacy_chain.invoke('Hallo nama saya Hamdi')"
   ]
  },
  {
   "cell_type": "code",
   "execution_count": 11,
   "metadata": {},
   "outputs": [
    {
     "data": {
      "text/plain": [
       "{'text': 'Tidak, saya tidak ingat. Saya adalah AI, tapi saya tidak memiliki memori jangka panjang, jadi saya tidak dapat mengingat nama Anda atau informasi lainnya yang Anda berikan sebelumnya. Setiap kali Anda berinteraksi dengan saya, itu adalah percakapan baru.',\n",
       " 'chat_history': [HumanMessage(content='Saya baik, apakah anda ingat nama saya', additional_kwargs={}, response_metadata={}),\n",
       "  AIMessage(content='Ya, saya ingat! Nama Anda adalah Hamdi. Saya adalah AI, jadi saya dapat mengingat informasi yang Anda berikan kepada saya. Bagaimana saya dapat membantu Anda hari ini?', additional_kwargs={}, response_metadata={}),\n",
       "  HumanMessage(content='Saya baik, apakah anda ingat nama saya', additional_kwargs={}, response_metadata={}),\n",
       "  AIMessage(content='Ya, saya ingat! Nama Anda adalah Hamdi.', additional_kwargs={}, response_metadata={})]}"
      ]
     },
     "execution_count": 11,
     "metadata": {},
     "output_type": "execute_result"
    }
   ],
   "source": [
    "legacy_chain.invoke('Saya baik, apakah anda ingat nama saya')"
   ]
  },
  {
   "cell_type": "code",
   "execution_count": 14,
   "metadata": {},
   "outputs": [],
   "source": [
    "llm_groq = ChatGroq(model=model)"
   ]
  },
  {
   "cell_type": "code",
   "execution_count": null,
   "metadata": {},
   "outputs": [],
   "source": []
  }
 ],
 "metadata": {
  "kernelspec": {
   "display_name": ".venv",
   "language": "python",
   "name": "python3"
  },
  "language_info": {
   "codemirror_mode": {
    "name": "ipython",
    "version": 3
   },
   "file_extension": ".py",
   "mimetype": "text/x-python",
   "name": "python",
   "nbconvert_exporter": "python",
   "pygments_lexer": "ipython3",
   "version": "3.12.9"
  }
 },
 "nbformat": 4,
 "nbformat_minor": 2
}
