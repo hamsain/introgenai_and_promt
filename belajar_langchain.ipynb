{
 "cells": [
  {
   "cell_type": "code",
   "execution_count": 1,
   "metadata": {},
   "outputs": [],
   "source": [
    "from langchain.chains import LLMChain\n",
    "from langchain.memory import ConversationBufferMemory"
   ]
  },
  {
   "cell_type": "code",
   "execution_count": 2,
   "metadata": {},
   "outputs": [
    {
     "name": "stderr",
     "output_type": "stream",
     "text": [
      "/var/folders/pj/3yfymb197hv2f5g4jf72wnkm0000gn/T/ipykernel_14255/707153679.py:15: LangChainDeprecationWarning: Please see the migration guide at: https://python.langchain.com/docs/versions/migrating_memory/\n",
      "  memory = ConversationBufferMemory(memory_key=\"chat_history\", return_messages=True)\n",
      "/var/folders/pj/3yfymb197hv2f5g4jf72wnkm0000gn/T/ipykernel_14255/707153679.py:19: LangChainDeprecationWarning: The class `LLMChain` was deprecated in LangChain 0.1.17 and will be removed in 1.0. Use :meth:`~RunnableSequence, e.g., `prompt | llm`` instead.\n",
      "  legacy_chain = LLMChain(\n"
     ]
    }
   ],
   "source": [
    "from langchain_core.prompts.chat import (\n",
    "    ChatPromptTemplate,\n",
    "    HumanMessagePromptTemplate,\n",
    "    MessagesPlaceholder,\n",
    ")\n",
    "from langchain_groq import ChatGroq\n",
    "\n",
    "prompt = ChatPromptTemplate(\n",
    "    [\n",
    "        MessagesPlaceholder(variable_name=\"chat_history\"),\n",
    "        HumanMessagePromptTemplate.from_template(\"{text}\"),\n",
    "    ]\n",
    ")\n",
    "\n",
    "memory = ConversationBufferMemory(memory_key=\"chat_history\", return_messages=True)\n",
    "\n",
    "model = 'llama3-70b-8192'\n",
    "\n",
    "legacy_chain = LLMChain(\n",
    "    llm=ChatGroq(model=model),\n",
    "    prompt=prompt,\n",
    "    memory=memory,\n",
    ")"
   ]
  },
  {
   "cell_type": "code",
   "execution_count": 3,
   "metadata": {},
   "outputs": [
    {
     "data": {
      "text/plain": [
       "{'text': 'Halo Hamdi! Selamat datang! Apa kabar?',\n",
       " 'chat_history': [HumanMessage(content='Hallo nama saya Hamdi', additional_kwargs={}, response_metadata={}),\n",
       "  AIMessage(content='Halo Hamdi! Selamat datang! Apa kabar?', additional_kwargs={}, response_metadata={})]}"
      ]
     },
     "execution_count": 3,
     "metadata": {},
     "output_type": "execute_result"
    }
   ],
   "source": [
    "legacy_chain.invoke('Hallo nama saya Hamdi')"
   ]
  },
  {
   "cell_type": "code",
   "execution_count": 4,
   "metadata": {},
   "outputs": [
    {
     "data": {
      "text/plain": [
       "{'text': 'Ya, saya ingat! Nama Anda adalah Hamdi. Saya memiliki kemampuan untuk mengingat percakapan kita, sehingga saya dapat memanggil nama Anda kembali.',\n",
       " 'chat_history': [HumanMessage(content='Hallo nama saya Hamdi', additional_kwargs={}, response_metadata={}),\n",
       "  AIMessage(content='Halo Hamdi! Selamat datang! Apa kabar?', additional_kwargs={}, response_metadata={}),\n",
       "  HumanMessage(content='Saya baik, apakah anda ingat nama saya', additional_kwargs={}, response_metadata={}),\n",
       "  AIMessage(content='Ya, saya ingat! Nama Anda adalah Hamdi. Saya memiliki kemampuan untuk mengingat percakapan kita, sehingga saya dapat memanggil nama Anda kembali.', additional_kwargs={}, response_metadata={})]}"
      ]
     },
     "execution_count": 4,
     "metadata": {},
     "output_type": "execute_result"
    }
   ],
   "source": [
    "legacy_chain.invoke('Saya baik, apakah anda ingat nama saya')"
   ]
  },
  {
   "cell_type": "code",
   "execution_count": null,
   "metadata": {},
   "outputs": [],
   "source": []
  }
 ],
 "metadata": {
  "kernelspec": {
   "display_name": ".venv",
   "language": "python",
   "name": "python3"
  },
  "language_info": {
   "codemirror_mode": {
    "name": "ipython",
    "version": 3
   },
   "file_extension": ".py",
   "mimetype": "text/x-python",
   "name": "python",
   "nbconvert_exporter": "python",
   "pygments_lexer": "ipython3",
   "version": "3.12.9"
  }
 },
 "nbformat": 4,
 "nbformat_minor": 2
}
