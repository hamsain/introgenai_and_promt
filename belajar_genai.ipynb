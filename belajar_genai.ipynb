{
 "cells": [
  {
   "cell_type": "code",
   "execution_count": 31,
   "metadata": {},
   "outputs": [
    {
     "data": {
      "text/plain": [
       "5"
      ]
     },
     "execution_count": 31,
     "metadata": {},
     "output_type": "execute_result"
    }
   ],
   "source": [
    "x=5\n",
    "x"
   ]
  },
  {
   "cell_type": "code",
   "execution_count": 32,
   "metadata": {},
   "outputs": [],
   "source": [
    "from openai import OpenAI\n",
    "import os\n",
    "from dotenv import load_dotenv"
   ]
  },
  {
   "cell_type": "code",
   "execution_count": 33,
   "metadata": {},
   "outputs": [],
   "source": [
    "load_dotenv()\n",
    "\n",
    "client = OpenAI(api_key=os.getenv(\"OPENAI_API_KEY\"))"
   ]
  },
  {
   "cell_type": "code",
   "execution_count": 34,
   "metadata": {},
   "outputs": [],
   "source": [
    "# response = client.chat.completions.create(model=\"gpt-4o-mini\", \n",
    "#                                           messages=[{\"role\": \"system\", \"content\": \"You are a helpful assistant.\"}], \n",
    "#                                           max_tokens=100)"
   ]
  },
  {
   "cell_type": "code",
   "execution_count": 35,
   "metadata": {},
   "outputs": [],
   "source": [
    "# response"
   ]
  },
  {
   "cell_type": "code",
   "execution_count": 36,
   "metadata": {},
   "outputs": [
    {
     "name": "stdout",
     "output_type": "stream",
     "text": [
      "Tokyo adalah ibukota Jepang.\n"
     ]
    }
   ],
   "source": [
    "import ollama\n",
    "# Menggunakan one-shot prompting\n",
    "response = ollama.chat(\n",
    "    model='llama3.2',\n",
    "    messages=[\n",
    "        {'role': 'user', 'content': 'Contoh: Apa ibukota Prancis?'},\n",
    "        {'role': 'assistant', 'content': 'Ibukota Prancis adalah Paris.'},\n",
    "        {'role': 'user', 'content': 'Apa ibukota Jepang?'}\n",
    "    ]\n",
    ")\n",
    "\n",
    "print(response['message']['content'])"
   ]
  },
  {
   "cell_type": "code",
   "execution_count": 37,
   "metadata": {},
   "outputs": [],
   "source": [
    "from langchain_ollama import ChatOllama"
   ]
  },
  {
   "cell_type": "code",
   "execution_count": 38,
   "metadata": {},
   "outputs": [
    {
     "data": {
      "text/plain": [
       "AIMessage(content='The founder of the Scouting movement is Robert Baden-Powell (1857-1941), a British army officer and adventurer. He is widely regarded as the \"Father of Scouting\" for his role in creating the Boy Scout Movement, which was first launched at the Crystal Palace in London on February 22, 1908.\\n\\nBaden-Powell was inspired to create the scouting movement after observing the harsh conditions faced by young soldiers during a military expedition to South Africa. He believed that by teaching boys important life skills such as camping, first aid, and teamwork, he could help them develop into capable and confident leaders.\\n\\nThe Scouting movement has since grown globally, with millions of members in over 200 countries, and is now led by the World Organization of the Scout Movement (WOSM) and local national organizations.', additional_kwargs={}, response_metadata={'model': 'llama3.2:latest', 'created_at': '2025-03-16T10:04:19.209393Z', 'message': {'role': 'assistant', 'content': ''}, 'done_reason': 'stop', 'done': True, 'total_duration': 9467148958, 'load_duration': 36281375, 'prompt_eval_count': 31, 'prompt_eval_duration': 140000000, 'eval_count': 168, 'eval_duration': 9283000000}, id='run-d538526e-d29f-4c26-b743-5427d9188d33-0', usage_metadata={'input_tokens': 31, 'output_tokens': 168, 'total_tokens': 199})"
      ]
     },
     "execution_count": 38,
     "metadata": {},
     "output_type": "execute_result"
    }
   ],
   "source": [
    "llm = ChatOllama(temperature=0.8, max_tokens=100, model='llama3.2:latest')\n",
    "llm.invoke(\"who is father of scouting?\")"
   ]
  },
  {
   "cell_type": "code",
   "execution_count": 39,
   "metadata": {},
   "outputs": [],
   "source": [
    "prompt_temmplate = \"\"\"\n",
    "Here are a few examples of translations from English to French:\n",
    "\n",
    "1. \"Hello\" -> \"Bonjour\"\n",
    "2. \"Goodbye\" -> \"Au revoir\"\n",
    "3. \"Thank you\" -> \"Merci\"\n",
    "\n",
    "Now, translate the following sentence: \"{task}\"\n",
    "\"\"\""
   ]
  },
  {
   "cell_type": "code",
   "execution_count": 40,
   "metadata": {},
   "outputs": [],
   "source": [
    "from langchain.prompts import PromptTemplate\n",
    "prompt = PromptTemplate(input_variables=[\"task\"], template=prompt_temmplate)"
   ]
  },
  {
   "cell_type": "code",
   "execution_count": 41,
   "metadata": {},
   "outputs": [
    {
     "data": {
      "text/plain": [
       "AIMessage(content='The translation for the sentence \"how are you?\" in French is:\\n\\n\"How are you?\"\\n\\n translates to:\\n\" Comment allez-vous? \"\\n\\nIn a more informal setting or with friends, it\\'s common to say:\\n\"Ça va ?\"\\n\\nWhich means \"How are you?\" and is often used as a greeting.', additional_kwargs={}, response_metadata={'model': 'llama3.2:latest', 'created_at': '2025-03-16T10:04:22.857807Z', 'message': {'role': 'assistant', 'content': ''}, 'done_reason': 'stop', 'done': True, 'total_duration': 3498948041, 'load_duration': 81649041, 'prompt_eval_count': 81, 'prompt_eval_duration': 270000000, 'eval_count': 65, 'eval_duration': 3136000000}, id='run-add23a92-3f1a-41f0-a282-34be599f10df-0', usage_metadata={'input_tokens': 81, 'output_tokens': 65, 'total_tokens': 146})"
      ]
     },
     "execution_count": 41,
     "metadata": {},
     "output_type": "execute_result"
    }
   ],
   "source": [
    "topik = \"how are you?\"\n",
    "llm.invoke(prompt.format(task=topik))"
   ]
  },
  {
   "cell_type": "code",
   "execution_count": 42,
   "metadata": {},
   "outputs": [],
   "source": [
    "my_sentiment_prompt = \"\"\"\n",
    "kamu adalah sentimen analyst expert, dan sedang bekerja untuk sebuah perusahaan e-commerce.\n",
    "Apa sentimen dari ulasan produk berikut,\n",
    "yang dibatasi dengan tanda kutip tiga?\n",
    "\n",
    "Berikan jawaban Anda dalam satu kata, baik \"positif\" \\\n",
    "atau \"negatif\".\n",
    "\n",
    "Teks ulasan: ---{text}---\n",
    "\"\"\""
   ]
  },
  {
   "cell_type": "code",
   "execution_count": 43,
   "metadata": {},
   "outputs": [],
   "source": [
    "contoh_ulasan = \"\"\"\n",
    "Judul Ulasan: Produk Berkualitas, Sesuai Ekspektasi\n",
    "\n",
    "Rating: ★★★★☆\n",
    "\n",
    "Ulasan:\n",
    "Halo DTSense, saya baru saja membeli body-lotion dari Tokolapak.com, dan secara keseluruhan, saya sangat puas dengan pembelian ini. Produk ini hadir dengan kualitas yang sangat baik dan sesuai dengan deskripsi yang tertera di halaman produk.\n",
    "\n",
    "Kelebihan:\n",
    "\n",
    "Kualitas bahan: Materialnya kokoh dan terlihat tahan lama, persis seperti yang saya harapkan.\n",
    "Fungsi: Semua fitur produk berfungsi dengan baik. Sangat mudah digunakan, dan saya tidak mengalami masalah selama penggunaannya.\n",
    "Pengiriman: Pengiriman cepat dan barang dikemas dengan baik, tidak ada kerusakan selama pengiriman.\n",
    "Harga: Harga cukup terjangkau untuk kualitas yang diberikan, jadi menurut saya ini adalah nilai yang baik.\n",
    "\n",
    "Kekurangan:\n",
    "\n",
    "Warna: Warna produk sedikit berbeda dari yang ditampilkan di foto. Dalam deskripsi tertulis warna biru tua, tapi yang saya terima sedikit lebih terang.\n",
    "Petunjuk penggunaan: Manualnya kurang jelas, terutama untuk orang yang baru pertama kali menggunakan produk ini.\n",
    "Secara keseluruhan, saya puas dengan pembelian ini dan akan mempertimbangkan untuk membeli produk lain dari toko yang sama di masa mendatang. Rekomendasi untuk mereka yang mencari produk dengan kualitas baik dan harga yang wajar.\n",
    "\n",
    "\"\"\""
   ]
  },
  {
   "cell_type": "code",
   "execution_count": 44,
   "metadata": {},
   "outputs": [],
   "source": [
    "prompt2 = PromptTemplate(input_variables=[\"text\"], template=my_sentiment_prompt)"
   ]
  },
  {
   "cell_type": "code",
   "execution_count": 45,
   "metadata": {},
   "outputs": [
    {
     "data": {
      "text/plain": [
       "AIMessage(content='Positif', additional_kwargs={}, response_metadata={'model': 'llama3.2:latest', 'created_at': '2025-03-16T10:04:25.311223Z', 'message': {'role': 'assistant', 'content': ''}, 'done_reason': 'stop', 'done': True, 'total_duration': 2201593459, 'load_duration': 55687625, 'prompt_eval_count': 447, 'prompt_eval_duration': 1968000000, 'eval_count': 4, 'eval_duration': 170000000}, id='run-19fef584-2d75-49e8-9c9a-5b41bd382334-0', usage_metadata={'input_tokens': 447, 'output_tokens': 4, 'total_tokens': 451})"
      ]
     },
     "execution_count": 45,
     "metadata": {},
     "output_type": "execute_result"
    }
   ],
   "source": [
    "llm.invoke(prompt2.format(text=contoh_ulasan))"
   ]
  },
  {
   "cell_type": "code",
   "execution_count": null,
   "metadata": {},
   "outputs": [],
   "source": []
  }
 ],
 "metadata": {
  "kernelspec": {
   "display_name": ".venv",
   "language": "python",
   "name": "python3"
  },
  "language_info": {
   "codemirror_mode": {
    "name": "ipython",
    "version": 3
   },
   "file_extension": ".py",
   "mimetype": "text/x-python",
   "name": "python",
   "nbconvert_exporter": "python",
   "pygments_lexer": "ipython3",
   "version": "3.12.9"
  }
 },
 "nbformat": 4,
 "nbformat_minor": 2
}
