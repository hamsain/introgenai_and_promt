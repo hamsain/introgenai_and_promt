{
 "cells": [
  {
   "cell_type": "code",
   "execution_count": 3,
   "metadata": {},
   "outputs": [
    {
     "data": {
      "text/plain": [
       "5"
      ]
     },
     "execution_count": 3,
     "metadata": {},
     "output_type": "execute_result"
    }
   ],
   "source": [
    "x=5\n",
    "x"
   ]
  },
  {
   "cell_type": "code",
   "execution_count": 4,
   "metadata": {},
   "outputs": [],
   "source": [
    "from openai import OpenAI\n",
    "import os\n",
    "from dotenv import load_dotenv"
   ]
  },
  {
   "cell_type": "code",
   "execution_count": 5,
   "metadata": {},
   "outputs": [
    {
     "data": {
      "text/plain": [
       "True"
      ]
     },
     "execution_count": 5,
     "metadata": {},
     "output_type": "execute_result"
    }
   ],
   "source": [
    "load_dotenv()\n",
    "\n",
    "# client = OpenAI(api_key=os.getenv(\"OPENAI_API_KEY\"))"
   ]
  },
  {
   "cell_type": "code",
   "execution_count": 6,
   "metadata": {},
   "outputs": [],
   "source": [
    "# response = client.chat.completions.create(model=\"gpt-4o-mini\", \n",
    "#                                           messages=[{\"role\": \"system\", \"content\": \"You are a helpful assistant.\"}], \n",
    "#                                           max_tokens=100)"
   ]
  },
  {
   "cell_type": "code",
   "execution_count": 7,
   "metadata": {},
   "outputs": [],
   "source": [
    "# response"
   ]
  },
  {
   "cell_type": "code",
   "execution_count": 8,
   "metadata": {},
   "outputs": [
    {
     "name": "stdout",
     "output_type": "stream",
     "text": [
      "Tokyo adalah ibukota Jepang.\n"
     ]
    }
   ],
   "source": [
    "import ollama\n",
    "# Menggunakan one-shot prompting\n",
    "response = ollama.chat(\n",
    "    model='llama3.2',\n",
    "    messages=[\n",
    "        {'role': 'user', 'content': 'Contoh: Apa ibukota Prancis?'},\n",
    "        {'role': 'assistant', 'content': 'Ibukota Prancis adalah Paris.'},\n",
    "        {'role': 'user', 'content': 'Apa ibukota Jepang?'}\n",
    "    ]\n",
    ")\n",
    "\n",
    "print(response['message']['content'])"
   ]
  },
  {
   "cell_type": "code",
   "execution_count": 9,
   "metadata": {},
   "outputs": [],
   "source": [
    "from langchain_ollama import ChatOllama"
   ]
  },
  {
   "cell_type": "code",
   "execution_count": 10,
   "metadata": {},
   "outputs": [
    {
     "data": {
      "text/plain": [
       "AIMessage(content='Robert Baden-Powell (1857-1941) is widely regarded as the founder and \"Father of Scouting\". He was a British army officer, scout, and adventurer who created the Scouting movement in 1908.', additional_kwargs={}, response_metadata={'model': 'llama3.2:latest', 'created_at': '2025-03-23T07:34:28.158044Z', 'message': {'role': 'assistant', 'content': ''}, 'done_reason': 'stop', 'done': True, 'total_duration': 2387398250, 'load_duration': 64513792, 'prompt_eval_count': 31, 'prompt_eval_duration': 150000000, 'eval_count': 48, 'eval_duration': 2168000000}, id='run-8bd55528-add8-4d4f-9bd1-b10666398eda-0', usage_metadata={'input_tokens': 31, 'output_tokens': 48, 'total_tokens': 79})"
      ]
     },
     "execution_count": 10,
     "metadata": {},
     "output_type": "execute_result"
    }
   ],
   "source": [
    "llm = ChatOllama(temperature=0.8, max_tokens=100, model='llama3.2:latest')\n",
    "llm.invoke(\"who is father of scouting?\")"
   ]
  },
  {
   "cell_type": "code",
   "execution_count": 11,
   "metadata": {},
   "outputs": [],
   "source": [
    "prompt_temmplate = \"\"\"\n",
    "Here are a few examples of translations from English to French:\n",
    "\n",
    "1. \"Hello\" -> \"Bonjour\"\n",
    "2. \"Goodbye\" -> \"Au revoir\"\n",
    "3. \"Thank you\" -> \"Merci\"\n",
    "\n",
    "Now, translate the following sentence: \"{task}\"\n",
    "\"\"\""
   ]
  },
  {
   "cell_type": "code",
   "execution_count": 12,
   "metadata": {},
   "outputs": [],
   "source": [
    "from langchain.prompts import PromptTemplate\n",
    "prompt = PromptTemplate(input_variables=[\"task\"], template=prompt_temmplate)"
   ]
  },
  {
   "cell_type": "code",
   "execution_count": 13,
   "metadata": {},
   "outputs": [
    {
     "data": {
      "text/plain": [
       "AIMessage(content='The translation for the sentence \"how are you?\" is: \"Comment allez-vous?\"\\n\\nNote: In French, the verb conjugation changes depending on the time of day and formality. For example:\\n\\n* During the day (morning or afternoon): Comment allez-vous? (informal)\\n* At night: Comment ça va? (informal), or Comment vous allez? (formal)\\n* When speaking to someone you don\\'t know well, especially at night: Combien de temps avez-vous passé là-bas? (a more formal and less direct question)\\n\\nBut for a casual greeting like this, \"Comment allez-vous?\" is the most common and polite way to ask how someone is doing.', additional_kwargs={}, response_metadata={'model': 'llama3.2:latest', 'created_at': '2025-03-23T07:34:35.506361Z', 'message': {'role': 'assistant', 'content': ''}, 'done_reason': 'stop', 'done': True, 'total_duration': 7296414333, 'load_duration': 33164375, 'prompt_eval_count': 81, 'prompt_eval_duration': 239000000, 'eval_count': 146, 'eval_duration': 7018000000}, id='run-e564c327-9b91-4612-902b-b9dc43d67bbe-0', usage_metadata={'input_tokens': 81, 'output_tokens': 146, 'total_tokens': 227})"
      ]
     },
     "execution_count": 13,
     "metadata": {},
     "output_type": "execute_result"
    }
   ],
   "source": [
    "topik = \"how are you?\"\n",
    "llm.invoke(prompt.format(task=topik))"
   ]
  },
  {
   "cell_type": "code",
   "execution_count": 14,
   "metadata": {},
   "outputs": [],
   "source": [
    "my_sentiment_prompt = \"\"\"\n",
    "kamu adalah sentimen analyst expert, dan sedang bekerja untuk sebuah perusahaan e-commerce.\n",
    "Apa sentimen dari ulasan produk berikut,\n",
    "yang dibatasi dengan tanda kutip tiga?\n",
    "\n",
    "Berikan jawaban Anda dalam satu kata, baik \"positif\" \\\n",
    "atau \"negatif\".\n",
    "\n",
    "Teks ulasan: ---{text}---\n",
    "\"\"\""
   ]
  },
  {
   "cell_type": "code",
   "execution_count": 15,
   "metadata": {},
   "outputs": [],
   "source": [
    "contoh_ulasan = \"\"\"\n",
    "Judul Ulasan: Produk Berkualitas, Sesuai Ekspektasi\n",
    "\n",
    "Rating: ★★★★☆\n",
    "\n",
    "Ulasan:\n",
    "Halo DTSense, saya baru saja membeli body-lotion dari Tokolapak.com, dan secara keseluruhan, saya sangat puas dengan pembelian ini. Produk ini hadir dengan kualitas yang sangat baik dan sesuai dengan deskripsi yang tertera di halaman produk.\n",
    "\n",
    "Kelebihan:\n",
    "\n",
    "Kualitas bahan: Materialnya kokoh dan terlihat tahan lama, persis seperti yang saya harapkan.\n",
    "Fungsi: Semua fitur produk berfungsi dengan baik. Sangat mudah digunakan, dan saya tidak mengalami masalah selama penggunaannya.\n",
    "Pengiriman: Pengiriman cepat dan barang dikemas dengan baik, tidak ada kerusakan selama pengiriman.\n",
    "Harga: Harga cukup terjangkau untuk kualitas yang diberikan, jadi menurut saya ini adalah nilai yang baik.\n",
    "\n",
    "Kekurangan:\n",
    "\n",
    "Warna: Warna produk sedikit berbeda dari yang ditampilkan di foto. Dalam deskripsi tertulis warna biru tua, tapi yang saya terima sedikit lebih terang.\n",
    "Petunjuk penggunaan: Manualnya kurang jelas, terutama untuk orang yang baru pertama kali menggunakan produk ini.\n",
    "Secara keseluruhan, saya puas dengan pembelian ini dan akan mempertimbangkan untuk membeli produk lain dari toko yang sama di masa mendatang. Rekomendasi untuk mereka yang mencari produk dengan kualitas baik dan harga yang wajar.\n",
    "\n",
    "\"\"\""
   ]
  },
  {
   "cell_type": "code",
   "execution_count": 16,
   "metadata": {},
   "outputs": [],
   "source": [
    "prompt2 = PromptTemplate(input_variables=[\"text\"], template=my_sentiment_prompt)"
   ]
  },
  {
   "cell_type": "code",
   "execution_count": 17,
   "metadata": {},
   "outputs": [
    {
     "data": {
      "text/plain": [
       "AIMessage(content='Positif', additional_kwargs={}, response_metadata={'model': 'llama3.2:latest', 'created_at': '2025-03-23T07:34:37.586873Z', 'message': {'role': 'assistant', 'content': ''}, 'done_reason': 'stop', 'done': True, 'total_duration': 2003504625, 'load_duration': 39343583, 'prompt_eval_count': 447, 'prompt_eval_duration': 1806000000, 'eval_count': 4, 'eval_duration': 151000000}, id='run-5b99805c-4a9b-4218-84e0-9b9398716beb-0', usage_metadata={'input_tokens': 447, 'output_tokens': 4, 'total_tokens': 451})"
      ]
     },
     "execution_count": 17,
     "metadata": {},
     "output_type": "execute_result"
    }
   ],
   "source": [
    "llm.invoke(prompt2.format(text=contoh_ulasan))"
   ]
  },
  {
   "cell_type": "code",
   "execution_count": 18,
   "metadata": {},
   "outputs": [
    {
     "data": {
      "text/plain": [
       "True"
      ]
     },
     "execution_count": 18,
     "metadata": {},
     "output_type": "execute_result"
    }
   ],
   "source": [
    "from langchain_groq import ChatGroq\n",
    "\n",
    "import os\n",
    "from dotenv import load_dotenv\n",
    "load_dotenv()"
   ]
  },
  {
   "cell_type": "code",
   "execution_count": 21,
   "metadata": {},
   "outputs": [
    {
     "data": {
      "text/plain": [
       "AIMessage(content=\"<think>\\nAlright, the user is asking for the capital of Indonesia. I know that Indonesia is a country in Southeast Asia. The most well-known city in Indonesia is Jakarta. I'm pretty sure that's the capital. To double-check, I can think about other major cities in Indonesia like Surabaya or Bandung, but Jakarta is the political and economic center. So, yes, Jakarta is the capital.\\n</think>\\n\\nIbukota Indonesia adalah Jakarta.\", additional_kwargs={}, response_metadata={'token_usage': {'completion_tokens': 94, 'prompt_tokens': 10, 'total_tokens': 104, 'completion_time': 0.341818182, 'prompt_time': 0.003561673, 'queue_time': 0.23261943200000001, 'total_time': 0.345379855}, 'model_name': 'deepseek-r1-distill-llama-70b', 'system_fingerprint': 'fp_fc872c073e', 'finish_reason': 'stop', 'logprobs': None}, id='run-68dec4c2-2a8a-4bdc-a048-2f4ab6097813-0', usage_metadata={'input_tokens': 10, 'output_tokens': 94, 'total_tokens': 104})"
      ]
     },
     "execution_count": 21,
     "metadata": {},
     "output_type": "execute_result"
    }
   ],
   "source": [
    "model = 'deepseek-r1-distill-llama-70b'\n",
    "\n",
    "ChatGroq(model=model).invoke(\"Apa ibukota Indonesia?\")"
   ]
  },
  {
   "cell_type": "code",
   "execution_count": 29,
   "metadata": {},
   "outputs": [],
   "source": [
    "model = 'llama3-70b-8192'\n",
    "\n",
    "llm_groq = ChatGroq(model=model)"
   ]
  },
  {
   "cell_type": "code",
   "execution_count": 30,
   "metadata": {},
   "outputs": [],
   "source": [
    "my_classification_prompt = \"\"\"\n",
    "Apakah penulis ulasan berikut ini sedang mengekspresikan kemarahan?\\\n",
    "Ulasan ini dibatasi dengan tanda kutip tiga.\\\n",
    "Berikan jawaban Anda sebagai ya atau tidak.\n",
    "\n",
    "Teks ulasan: \\\"\\\"\\\"{ulasan}\\\"\\\"\\\"\n",
    "\"\"\""
   ]
  },
  {
   "cell_type": "code",
   "execution_count": 28,
   "metadata": {},
   "outputs": [],
   "source": [
    "from langchain.prompts import PromptTemplate\n",
    "prompt_groq = PromptTemplate(input_variables=[\"ulasan\"], template=my_classification_prompt)"
   ]
  },
  {
   "cell_type": "code",
   "execution_count": 31,
   "metadata": {},
   "outputs": [
    {
     "data": {
      "text/plain": [
       "AIMessage(content='Tidak.', additional_kwargs={}, response_metadata={'token_usage': {'completion_tokens': 4, 'prompt_tokens': 416, 'total_tokens': 420, 'completion_time': 0.03947195, 'prompt_time': 0.013527521, 'queue_time': 0.24803459700000002, 'total_time': 0.052999471}, 'model_name': 'llama3-70b-8192', 'system_fingerprint': 'fp_2e0feca3c9', 'finish_reason': 'stop', 'logprobs': None}, id='run-f7e15bc9-0fa5-4e1d-b20c-af78e67fa7d4-0', usage_metadata={'input_tokens': 416, 'output_tokens': 4, 'total_tokens': 420})"
      ]
     },
     "execution_count": 31,
     "metadata": {},
     "output_type": "execute_result"
    }
   ],
   "source": [
    "llm_groq.invoke(prompt_groq.format(ulasan=contoh_ulasan))"
   ]
  },
  {
   "cell_type": "code",
   "execution_count": 32,
   "metadata": {},
   "outputs": [],
   "source": [
    "review_skin_care = \"\"\"\n",
    "Rating: ⭐ 1/5\n",
    "\n",
    "Judul: Sangat Kecewa dengan Produk Ini!\n",
    "\n",
    "Halo DTSense, Saya membeli produk skincare ini dari Tokolapak.com dengan harapan bisa memperbaiki kondisi kulit saya. Sayangnya, hasilnya sangat mengecewakan! Setelah seminggu pemakaian, kulit saya justru menjadi kering dan iritasi. Ada kemerahan di beberapa bagian wajah, terutama di sekitar pipi dan dahi.\n",
    "\n",
    "Selain itu, tekstur produknya lengket dan tidak nyaman saat diaplikasikan. Butuh waktu lama untuk menyerap, dan aromanya sangat menyengat, benar-benar tidak enak. Saya sudah mencoba mengikuti petunjuk pemakaian, tetapi hasilnya malah memperburuk kondisi kulit.\n",
    "\n",
    "Yang lebih mengecewakan, layanan pelanggan Tokolapak.com tidak responsif sama sekali. Saya mencoba menghubungi untuk mengajukan pengembalian produk, tetapi tidak ada tanggapan. Benar-benar pengalaman belanja yang buruk, tidak akan membeli produk skincare dari sini lagi!\n",
    "\"\"\""
   ]
  },
  {
   "cell_type": "code",
   "execution_count": 36,
   "metadata": {},
   "outputs": [],
   "source": [
    "expand_check_sentiment_prompt = \"\"\"\n",
    "Anda adalah asisten AI layanan pelanggan.\n",
    "Tugas Anda adalah mengirim balasan email ke pelanggan yang Anda hargai.\n",
    "Dengan email pelanggan yang dibatasi oleh tanda kutip tiga, \\\n",
    "Buat balasan untuk berterima kasih kepada pelanggan atas ulasan mereka.\n",
    "Jika sentimennya positif atau netral, berterima kasihlah atas \\\n",
    "ulasan mereka.\n",
    "Jika sentimennya negatif, minta maaf dan sarankan agar \\\n",
    "mereka dapat menghubungi layanan pelanggan.\n",
    "Pastikan untuk menggunakan detail spesifik dari ulasan.\n",
    "Tulis dalam bahasa indonesia dengan nada yang ringkas dan profesional.\n",
    "Tandatangani email sebagai \"asisten AI\".\n",
    "Customer review: \\\"\\\"\\\"{text}\\\"\\\"\\\"\n",
    "\"\"\""
   ]
  },
  {
   "cell_type": "code",
   "execution_count": 37,
   "metadata": {},
   "outputs": [],
   "source": [
    "prompt_review = PromptTemplate(input_variables=[\"text\"], template=expand_check_sentiment_prompt)"
   ]
  },
  {
   "cell_type": "code",
   "execution_count": 38,
   "metadata": {},
   "outputs": [
    {
     "data": {
      "text/plain": [
       "AIMessage(content=\"Subject: Re: Sangat Kecewa dengan Produk Ini!\\n\\nDear [Customer's Name],\\n\\nTerima kasih atas ulasan Anda tentang produk skincare yang Anda beli dari Tokolapak.com. Kami sangat menyayangkan mendengar bahwa produk tersebut tidak memenuhi harapan Anda dan menyebabkan iritasi pada kulit Anda.\\n\\nKami meminta maaf atas ketidaknyamanan yang Anda alami dan kekecewaan yang Anda rasakan terhadap produk dan layanan pelanggan Tokolapak.com. Kami mengerti bahwa Anda mengharapkan produk tersebut dapat memperbaiki kondisi kulit Anda, tetapi malah memperburuk kondisi kulit Anda.\\n\\nKami akan melakukan investigasi lebih lanjut tentang masalah ini dan akan berusaha untuk memperbaiki kualitas produk dan layanan pelanggan kami. Jika Anda masih mengalami masalah dengan produk tersebut, silakan menghubungi kami di [alamat email layanan pelanggan] agar kami dapat membantu Anda lebih lanjut.\\n\\nTerima kasih atas kesediaan Anda untuk berbagi pengalaman Anda dengan kami. Kami berharap dapat memiliki kesempatan untuk melayani Anda lebih baik di masa depan.\\n\\nBest regards,\\nAsisten AI\", additional_kwargs={}, response_metadata={'token_usage': {'completion_tokens': 270, 'prompt_tokens': 434, 'total_tokens': 704, 'completion_time': 0.820266172, 'prompt_time': 0.014730102, 'queue_time': 0.248166081, 'total_time': 0.834996274}, 'model_name': 'llama3-70b-8192', 'system_fingerprint': 'fp_2e0feca3c9', 'finish_reason': 'stop', 'logprobs': None}, id='run-d1eba8e6-2cad-415e-8d03-6bff2f1accf5-0', usage_metadata={'input_tokens': 434, 'output_tokens': 270, 'total_tokens': 704})"
      ]
     },
     "execution_count": 38,
     "metadata": {},
     "output_type": "execute_result"
    }
   ],
   "source": [
    "llm_groq.invoke(prompt_review.format(text=review_skin_care))"
   ]
  },
  {
   "cell_type": "code",
   "execution_count": null,
   "metadata": {},
   "outputs": [],
   "source": []
  },
  {
   "cell_type": "markdown",
   "metadata": {},
   "source": [
    "### Langgraph"
   ]
  },
  {
   "cell_type": "code",
   "execution_count": 39,
   "metadata": {},
   "outputs": [],
   "source": [
    "from langchain_core.messages import HumanMessage\n",
    "from langgraph.checkpoint.memory import MemorySaver\n",
    "from langgraph.graph import START, MessagesState, StateGraph\n",
    "\n",
    "# Define a new graph\n",
    "workflow = StateGraph(state_schema=MessagesState)\n",
    "\n",
    "# Define the function that calls the model\n",
    "def call_model(state: MessagesState):\n",
    "    response = llm_groq.invoke(state[\"messages\"])\n",
    "    # Update message history with response:\n",
    "    return {\"messages\": response}\n",
    "\n",
    "# Define the (single) node in the graph\n",
    "workflow.add_edge(START, \"model\")\n",
    "workflow.add_node(\"model\", call_model)\n",
    "\n",
    "# Add memory\n",
    "memory = MemorySaver()\n",
    "app = workflow.compile(checkpointer=memory)"
   ]
  },
  {
   "cell_type": "code",
   "execution_count": 40,
   "metadata": {},
   "outputs": [],
   "source": [
    "config = {\"configurable\": {\"thread_id\": \"abc123\"}}"
   ]
  },
  {
   "cell_type": "code",
   "execution_count": 41,
   "metadata": {},
   "outputs": [],
   "source": [
    "query = \"Nama saya adalah Hamdi\"\n",
    "\n",
    "input_messages = [HumanMessage(query)]\n",
    "output = app.invoke({\"messages\": input_messages}, config)"
   ]
  },
  {
   "cell_type": "code",
   "execution_count": 42,
   "metadata": {},
   "outputs": [
    {
     "data": {
      "text/plain": [
       "{'messages': [HumanMessage(content='Nama saya adalah Hamdi', additional_kwargs={}, response_metadata={}, id='7946da7c-e6d6-4bba-b0b1-ffa0b9c99a70'),\n",
       "  AIMessage(content='Selamat pagi, Hamdi! Senang berkenalan denganmu. Apa kabar hari ini?', additional_kwargs={}, response_metadata={'token_usage': {'completion_tokens': 24, 'prompt_tokens': 15, 'total_tokens': 39, 'completion_time': 0.092054093, 'prompt_time': 0.000248927, 'queue_time': 0.24773226099999998, 'total_time': 0.09230302}, 'model_name': 'llama3-70b-8192', 'system_fingerprint': 'fp_2e0feca3c9', 'finish_reason': 'stop', 'logprobs': None}, id='run-947e7ce9-57a7-41d4-9729-eb9c64da74d9-0', usage_metadata={'input_tokens': 15, 'output_tokens': 24, 'total_tokens': 39})]}"
      ]
     },
     "execution_count": 42,
     "metadata": {},
     "output_type": "execute_result"
    }
   ],
   "source": [
    "output"
   ]
  },
  {
   "cell_type": "code",
   "execution_count": null,
   "metadata": {},
   "outputs": [],
   "source": []
  }
 ],
 "metadata": {
  "kernelspec": {
   "display_name": ".venv",
   "language": "python",
   "name": "python3"
  },
  "language_info": {
   "codemirror_mode": {
    "name": "ipython",
    "version": 3
   },
   "file_extension": ".py",
   "mimetype": "text/x-python",
   "name": "python",
   "nbconvert_exporter": "python",
   "pygments_lexer": "ipython3",
   "version": "3.12.9"
  }
 },
 "nbformat": 4,
 "nbformat_minor": 2
}
