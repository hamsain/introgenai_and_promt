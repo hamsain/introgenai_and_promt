{
 "cells": [
  {
   "cell_type": "code",
   "execution_count": 3,
   "metadata": {},
   "outputs": [
    {
     "data": {
      "text/plain": [
       "True"
      ]
     },
     "execution_count": 3,
     "metadata": {},
     "output_type": "execute_result"
    }
   ],
   "source": [
    "from dotenv import load_dotenv\n",
    "load_dotenv() "
   ]
  },
  {
   "cell_type": "code",
   "execution_count": 8,
   "metadata": {},
   "outputs": [],
   "source": [
    "from langchain.document_loaders import WebBaseLoader\n",
    "from langchain.vectorstores import FAISS\n",
    "from langchain_groq import ChatGroq\n",
    "from langchain.prompts import PromptTemplate\n",
    "from langchain.chains import LLMChain\n",
    "from langchain_huggingface import HuggingFaceEmbeddings"
   ]
  },
  {
   "cell_type": "code",
   "execution_count": 9,
   "metadata": {},
   "outputs": [],
   "source": [
    "model = 'llama3-70b-8192'\n",
    "\n",
    "llm_groq = ChatGroq(model=model)"
   ]
  },
  {
   "cell_type": "code",
   "execution_count": 10,
   "metadata": {},
   "outputs": [
    {
     "data": {
      "text/plain": [
       "AIMessage(content='DTsense adalah sebuah institusi pendidikan yang berfokus pada pengembangan kemampuan di bidang data science, artificial intelligence, dan teknologi terkait lainnya. Berikut adalah beberapa program yang dipelajari di DTsense:\\n\\n1. **Data Science**: Program ini membahas tentang pengolahan data, analisis data, dan visualisasi data menggunakan berbagai tools dan teknologi seperti Python, R, Tableau, Power BI, dan lain-lain.\\n2. **Machine Learning**: Program ini membahas tentang pengembangan model machine learning, penggunaan algoritma machine learning, dan implementasinya dalam berbagai kasus bisnis.\\n3. **Deep Learning**: Program ini membahas tentang pengembangan model deep learning, penggunaan library deep learning seperti TensorFlow, Keras, dan PyTorch, serta implementasinya dalam berbagai kasus bisnis.\\n4. **Artificial Intelligence**: Program ini membahas tentang pengembangan sistem AI, penggunaan teknologi AI dalam berbagai industri, dan implementasinya dalam berbagai kasus bisnis.\\n5. **Big Data Analytics**: Program ini membahas tentang pengolahan data besar, analisis data besar, dan implementasinya dalam berbagai kasus bisnis menggunakan teknologi seperti Hadoop, Spark, dan NoSQL.\\n6. **Internet of Things (IoT)**: Program ini membahas tentang pengembangan sistem IoT, penggunaan sensor dan aktuator dalam berbagai aplikasi, dan implementasinya dalam berbagai kasus bisnis.\\n7. **Natural Language Processing (NLP)**: Program ini membahas tentang pengembangan model NLP, penggunaan library NLP seperti NLTK, spaCy, dan Stanford CoreNLP, serta implementasinya dalam berbagai kasus bisnis.\\n8. **Computer Vision**: Program ini membahas tentang pengembangan model computer vision, penggunaan library computer vision seperti OpenCV, Pillow, dan scikit-image, serta implementasinya dalam berbagai kasus bisnis.\\n\\nDTsense juga menawarkan program-program lainnya seperti Data Engineering, Business Analytics, dan Digital Transformation, serta program-program spesifik untuk industri tertentu seperti Healthcare, Finance, dan Retail.', additional_kwargs={}, response_metadata={'token_usage': {'completion_tokens': 462, 'prompt_tokens': 22, 'total_tokens': 484, 'completion_time': 1.32, 'prompt_time': 0.000448177, 'queue_time': 0.255521057, 'total_time': 1.320448177}, 'model_name': 'llama3-70b-8192', 'system_fingerprint': 'fp_2e0feca3c9', 'finish_reason': 'stop', 'logprobs': None}, id='run-8b305a94-3814-49d9-a52c-a8a90cf1ef31-0', usage_metadata={'input_tokens': 22, 'output_tokens': 462, 'total_tokens': 484})"
      ]
     },
     "execution_count": 10,
     "metadata": {},
     "output_type": "execute_result"
    }
   ],
   "source": [
    "llm_groq.invoke(\"Program apa saja yang dipelajari di DTsense?\")"
   ]
  },
  {
   "cell_type": "markdown",
   "metadata": {},
   "source": [
    "### RAG"
   ]
  },
  {
   "cell_type": "code",
   "execution_count": 11,
   "metadata": {},
   "outputs": [],
   "source": [
    "# Langkah 1: Mengambil konten dari halaman web menggunakan WebBaseLoader\n",
    "url = \"https://dtsense.id/ds4/\"\n",
    "loader = WebBaseLoader(url)\n",
    "documents = loader.load()"
   ]
  },
  {
   "cell_type": "code",
   "execution_count": 12,
   "metadata": {},
   "outputs": [
    {
     "data": {
      "text/plain": [
       "[Document(metadata={'source': 'https://dtsense.id/ds4/', 'title': 'Generative AI Academy – DTSense', 'language': 'en-US'}, page_content='\\n\\n\\n\\n\\n\\nGenerative AI Academy – DTSense\\n\\n\\n\\n\\n\\n\\n\\n\\n\\n\\n\\n\\n\\n\\n\\n\\n\\n\\n\\n\\n\\n\\n\\n\\n\\n\\n\\n\\n\\n\\n\\n\\n\\n\\n\\n\\n\\n\\n\\n\\n\\n\\n\\n\\n\\n\\n\\n\\n\\n\\n\\n\\n\\n\\tSkip to content\\n\\n\\n\\n\\n\\n\\n\\n\\n\\n\\n \\n\\n\\n\\n\\n\\n\\n\\n\\n\\nHome\\nAbout\\n\\nOur Team\\nFAQ\\nContact Us\\n\\n\\nAcademy\\n\\nAcademy I: Data Analytics Track\\n\\nPendaftaran Data Analytics Track\\n\\n\\nAcademy II: AI & Machine Learning\\n\\nPendaftaran Data Science II Academy\\n\\n\\nAcademy III: Deep Learning & Reinforcement Learning\\n\\nPendaftaran Data Science III Academy\\n\\n\\nGenerative AI Engineer (LLM & RAG)\\nKnowledge\\nAI-IDEATHON\\n\\n\\nGenAI\\nCertificate\\nWorkshop\\nWebinars\\n \\n\\n Menu\\n\\n\\nHome\\nAbout\\n\\nOur Team\\nFAQ\\nContact Us\\n\\n\\nAcademy\\n\\nAcademy I: Data Analytics Track\\n\\nPendaftaran Data Analytics Track\\n\\n\\nAcademy II: AI & Machine Learning\\n\\nPendaftaran Data Science II Academy\\n\\n\\nAcademy III: Deep Learning & Reinforcement Learning\\n\\nPendaftaran Data Science III Academy\\n\\n\\nGenerative AI Engineer (LLM & RAG)\\nKnowledge\\nAI-IDEATHON\\n\\n\\nGenAI\\nCertificate\\nWorkshop\\nWebinars\\n \\n\\n\\n\\n\\n\\n\\n\\n\\n\\n\\n\\n\\n \\n+62-857-7612-6831\\n\\n\\n\\n\\n\\n\\n\\n\\n\\n\\n\\n\\n\\n\\n\\nGenerative AI Academy \\n\\n\\n\\n\\n\\n\\n\\n\\n\\nGenerative Artificial Intelligence \\n\\n\\n\\nGenerative AI Academy & Generative AI Engineer Career Fast-Track  \\n\\n\\n\\n\\n\\n\\n\\n\\n\\n\\nGenerative AI Academy\\xa0merupakan program lanjutan yang disediakan oleh DTSense Academy. Di program ini, selama 1 sampai 2 bulan, peserta akan secara intensif belajar penerapan Generative Artificial Intelligence pada level yang lebih advance, dengan mendalami dan mengimplementasi konsep-konsep & teknik yang digunakan dalam Large Language Model, seperti: Prompt Engineering, Retrieval Augmented Generation,\\xa0Vector Databases,\\xa0LLMOps. Juga mempelajari Tools seperti Langchain, MilvusDB, MLFlow, OpenAI, Llama, etc sampai pendampingan Final Project!DTSense juga menawarkan program\\xa0Generative AI Engineer Career Fast-Track, dimana dalam waktu 2 sampai 3 bulan, peserta akan belajar materi yang ada di\\xa0Generative AI Academy\\xa0ditambah dengan kelas tambahan seperti Data Analytics, AI Engineering, Advanced LLM topic, dan juga sesi untuk support Karir/Akademik/Beasiswa untuk ke Luar Negeri, khususnya di Eropa. Sehingga Peserta yang lulus dalam program ini bisa lebih siap untuk berkarir menjadi GenAI Engineer di dalam Negeri maupun di luar Negeri.Estimasi Gaji GenAI Engineer:Generative AI adalah jenis AI yang terbaru dan sangat dibutuhkan dalam dunia pekerjaan sekarang. Dengan belajar Generative AI, peserta bisa berpeluang untuk mendapatkan pendapatan per tahun:Gaji GenAI Engineer di United States: 130518$ / ~2.1 Milyar Rupiah\\xa0Gaji GenAI Engineer di Eropa – Jerman: 71060€\\xa0/\\xa0~1.25 Milyar RupiahSource: Glassdoor US & DE. \\n\\n\\n\\n\\n\\n\\n\\n\\n\\n\\n\\n\\n\\nDaftar sekarang\\n\\n\\n\\n\\n\\n\\n\\n\\n\\n\\n\\n\\n\\n\\n\\n\\n\\n\\n\\n \\n\\n\\n\\n\\n\\n\\n\\n\\n\\n\\n\\n\\n\\n\\n\\nApa yang akan di pelajari di Generative AI Academy? \\n\\n\\n\\n\\n\\n\\n\\nDay 1 \\n\\n\\n\\n\\n\\n\\n\\n\\n\\n\\n\\nBrief Recaps to Artificial Intelligence and Machine Learning with python (scikit-learn) \\n\\n\\n\\n\\n\\n\\n\\nDay 2 \\n\\n\\n\\n\\n\\n\\n\\n\\n\\n\\n\\nMachine Learning - Supervised Learning (Neural Networks, Multi Layer Perceptron, Metrics Evaluation, Precision, Recall, F1 Score) \\n\\n\\n\\n\\n\\n\\n\\nDay 3 \\n\\n\\n\\n\\n\\n\\n\\n\\n\\n\\n\\nNatural Language Processing(Basic of NLP, Text Processing, Vectorizer, TF-IDF) \\n\\n\\n\\n\\n\\n\\n\\nDay 4 \\n\\n\\n\\n\\n\\n\\n\\n\\n\\n\\n\\nIntroduction to Deep Learning (Neural Networks in details with TensorFlow 2.0 implementation) \\n\\n\\n\\n\\n\\n\\n\\n\\n\\n\\n\\nDay 5 \\n\\n\\n\\n\\n\\n\\n\\n\\n\\n\\n\\nIntroduction to GenAI & Prompt Engineering (LLM Models, e.g: GPT3.5,  GPT4o, LLAMA2,LLAMA3, DBRX) \\n\\n\\n\\n\\n\\n\\n\\nDay 6 \\n\\n\\n\\n\\n\\n\\n\\n\\n\\n\\n\\nGenAI/LLM Frameworks(Basic of LangChain / Haystack, Components, Implementation of Embedding models - HuggingFace, SentenceTransformers) \\n\\n\\n\\n\\n\\n\\n\\nDay 7 \\n\\n\\n\\n\\n\\n\\n\\n\\n\\n\\n\\nRAG - Retrieval Augmented Generation (Building Chatbot Application with your data, Intro to Vector Databases - FAISS, Chroma, etc.) \\n\\n\\n\\n\\n\\n\\n\\nDay 8 \\n\\n\\n\\n\\n\\n\\n\\n\\n\\n\\n\\nLLMOPS - MLOPS for Large Language Models(LLM Evaluation, Deployment using MLFlow) \\n\\n\\n\\n\\n\\n\\n\\n\\n\\n\\n\\n\\n\\n\\n\\nExtra LIVE Classes Generative AI Engineer Career Fast-Track \\n\\n\\n\\n\\n\\n\\n\\n2 Weeks Before Academy \\n\\n\\n\\n\\n\\n\\n\\n\\n\\n\\n\\nPython for Data Manipulation and Visualizations Modules.\\n\\nBelajar Komputasi Numerik menggunakan NumPy. Belajar Exploratory Data Analysis menggunakan Pandas. \\n\\n\\n\\n\\n\\n\\n\\nExtra Class 1 - GitHub Management \\n\\n\\n\\n\\n\\n\\n\\n\\n\\n\\n\\nAdvanced GIT Workflow/Management\\nBelajar advanced GIT Workflow\\nBranching\\nPull Requests and merging PR.\\nGitHub Estetik: Profile Picture, Readme, gh-pages, widgets\\n \\n\\n\\n\\n\\n\\n\\n\\nExtra Class 2 - AI Engineering Classes \\n\\n\\n\\n\\n\\n\\n\\n\\n\\n\\n\\nAI Engineering Class 1 - Backend:\\nBelajar Konsep Machine Learning Serialization (Pickle/Joblib)\\nBuilding AI API menggunakan FastAPI (Backend)\\nBelajar Konsep HTTP dan Rest API\\nPraktik Integrasi ML Model (Serialization: Pickle/Joblib) dengan FastAPI \\n\\n\\n\\n\\n\\n\\n\\nExtra Class 3 - AI Engineering Classes \\n\\n\\n\\n\\n\\n\\n\\n\\n\\n\\n\\nAI Engineering Class 2 - Frontend:\\nBuilding AI/Data Web App using Streamlit (Frontend)\\nPraktik membuat Interactive Data dengan Plotly\\nIntegrasi Machine Learning dengan Streamlit \\n\\n\\n\\n\\n\\n\\n\\n\\n\\n\\n\\nExtra Class 4 - AI Engineering Classes \\n\\n\\n\\n\\n\\n\\n\\n\\n\\n\\n\\nAI Engineering Class 3 - Deployment:\\nBelajar dasar-dasar deployment (membuat aplikasi AI yang bisa digunakan user di production)\\nBelajar dasar Docker,\\nBelajar melakukan deployment ke cloud solutions (e.g: Community Cloud)  \\n\\n\\n\\n\\n\\n\\n\\nExtra Class 5 - Advanced LLM \\n\\n\\n\\n\\n\\n\\n\\n\\n\\n\\n\\nAdvanced LLM - Fine Tuning:\\nBelajar konsep lanjut Transfer Learning dan Fine Tuning,\\nKonsep Fine-tuning untuk LLM menggunakan QLoRA dan PEFT,\\nLLMOps Fine-tuning Life-cycle menggunakan MLFlow\\n \\n\\n\\n\\n\\n\\n\\n\\nExtra Class 6 - Career/Academic Support \\n\\n\\n\\n\\n\\n\\n\\n\\n\\n\\n\\nCareer/Academic Supports:\\nCV/Resume/Motivation Letter/LinkedIn review,\\nSimulasi Interview\\nKonsultasi karir atau kuliah (dalam negeri dan luar negeri (Eropa)),\\nKonsultasi strategi mendapatkan Beasiswa/Sponsorship ke Luar Negeri\\n \\n\\n\\n\\n\\n\\n\\n\\nFinal Project \\n\\n\\n\\n\\n\\n\\n\\n\\n\\n\\n\\nBuilding Product-ready AI Application:\\n\\nDibimbing untuk membuat Portfolio dalam bentuk AI/Data Application yang di deploy ke Cloud.\\n\\nSehingga produk bisa digunakan oleh publik atau khalayak ramai. \\n\\n\\n\\n\\n\\n\\n\\n\\n\\n\\n\\n\\n\\n\\n\\n\\n\\n\\n\\nTersedia\\xa0Additional Modules / Materi Pembelajaran (Self-Study)*: khusus untuk peserta Generative AI Engineer Career Fast Track atau By Request dengan biaya tambahan.Python for Data Analytics/Data Science:Data Manipulation with PandasData Visualization with Matplotlib/seaborn/plotlyAI & Machine Learning – Unsupervised Learning:ClusteringMarket Basket Analysis/Association RulesDimensionality ReductionAI & Machine Learning – Image ProcessingFiltering and TransformationImage and Face DetectionDeep Learning & Reinforcement Learning – Deep Learning for Text and ImagesConvolutional Neural NetworksRecurrent Neural NetworksDeep Learning & Reinforcement Learning – Transfer LearningDeep Learning & Reinforcement Learning – Reinforcement LearningDeep Learning & Reinforcement Learning – TensorFlow 2.0 DeploymentsCareer/Academic Supports:CV/Resume/Motivation Letter/LinkedIn reviewSimulasi InterviewKonsultasi karir atau kuliah (dalam negeri dan luar negeri (Eropa))Konsultasi strategi mendapatkan Beasiswa/Sponsorship ke Luar Negeri \\n\\n\\n\\n\\n\\n\\n\\n\\n\\n\\n\\n\\n\\n\\n\\n\\n\\n\\n\\n \\n\\n\\n\\n\\n\\n\\n\\n\\n\\n\\n\\n\\n\\n\\n\\nUntuk membaca lebih detail mengenai silabus, dapat mengunduh halaman PDF \\n\\n\\n\\n\\n\\n\\nDownload Silabus PDF\\n\\n\\n\\n\\n\\n\\n\\n\\n\\n\\n\\n\\n\\n\\n\\nBiaya Academy & Career Fast-Track \\n\\n\\n\\n\\n\\n\\n\\n\\n\\n\\nGenerative AI Academy\\n\\nBiaya\\xa0Generative AI Academy selama masa promo/soft-launching adalah sebesar:Rp. 10.000.000,-Rp. 5.500.000,-Tersedia opsi cicilan dengan menghubungi admin DTSense.\\n\\n\\n\\n\\n\\n\\n\\nGenerative AI Career Fast-Track\\n\\nBiaya\\xa0Generative AI Engineer Career Fast-Track selama masa promo/soft-launching adalah sebesar:Rp. 15.000.000,-Rp. 8.000.000,-Tersedia opsi cicilan dengan menghubungi admin DTSense.Dengan mengikuti\\xa0Generative AI Engineer Career Fast-Track, Peserta akan mendapatkan kelas\\xa0Generative AI Academy + Extra Class GenAI Engineer Career Fast-Track  + Modules (Data Analytics, AI, Machine Learning, Deep Learning, Reinforcement Learning) + Career/Academic/Scholarship Consultation Supports.\\n\\n\\n\\n\\n\\n\\n\\n\\n\\n\\n\\n\\n\\n\\nMetode Belajar Mengajar \\n\\n\\n\\n\\n\\n\\n\\n\\n\\n\\nInteractive & intensive learning\\n\\nKelas yang intensif melalui Zoom memungkinkan proses pembelajaran dari jarak jauh dan menjadi lebih efektif. Sistem pengajaran dua arah juga akan menciptakan suasana kelas yang interaktif, dimana peserta bisa langsung bertanya dan berdiskusi dengan tutor jika menemukan hal-hal yang kurang dimengerti. Selain itu, tutor juga membuka peluang kepada peserta untuk melakukan konsultasi di luar jam pelajaran tanpa memungut biaya tambahan.\\n\\n\\n\\n\\n\\n\\n\\npersonal consultation\\n\\nDTSense membuka jadwal konsultasi di luar jam pelajaran bagi peserta yang ingin bertanya lebih jauh seputar materi yang sudah disampaikan di dalam kelas. Selain itu, peserta juga bisa berkonsultasi seputar tips kuliah & berkarir di Jerman, dan juga membuat CV & Cover Letter dalam bahasa Inggris. Konsultasi ini tidak dipungut biaya tambahan.\\n\\n\\n\\n\\n\\n\\n\\nstructured modules\\n\\nSetiap peserta akan mendapatkan modul pembelajaran dalam B. Indonesia yang disusun oleh Tim Akademi DTSense. Modul tersebut dirancang sedemikian rupa agar peserta dapat mempelajari Data Science secara step-by-step. Dengan adanya modul pembelajaran, kegiatan belajar-mengajar menjadi lebih terstruktur dan peserta dapat mengikuti materi pembelajaran dengan baik.\\n\\n\\n\\n\\n\\n\\n\\nproject & case studies\\n\\nPeserta akan mendapatkan tugas yang diberikan pada setiap pertemuan. Tugas tersebut berupa Project & Case Studies yang memungkinkan peserta untuk mengulang & lebih mendalami materi yang sudah dipelajari.\\n\\n\\n\\n\\n\\n\\n\\nbahasa indonesia\\n\\nKegiatan belajar-mengajar akan disampaikan dengan Bahasa Indonesia. Sehingga peserta yang notaben-nya adalah orang Indonesia bisa lebih leluasa dalam memahami dan bertanya seputar materi yang disampaikan.\\n\\n\\n\\n\\n\\n\\n\\npractical learning\\n\\nPada setiap pertemuan, peserta tidak hanya belajar seputar teori, tetapi juga mempraktikannya secara langsung di Jupyter Notebook sebagai IDE (Integrated Development Environment).\\n\\n\\n\\n\\n\\n\\n\\nrecording\\n\\nMateri yang disampaikan pada setiap pertemuan akan direkam dan hanya dapat diakses oleh peserta. Hal ini akan membantu peserta untuk mengulang & mengingat kembali materi yang sudah disampaikan ketika kursus sudah selesai.\\n\\n\\n\\n\\n\\n\\n\\nEnglish Class - bonus\\n\\nMeskipun materi pembelajaran akan disampaikan dalam bahasa Indonesia, alangkah baiknya peserta juga memiliki dasar pengetahuan dalam berbahasa inggris. Karena saat melakukan coding Python, banyak ditemukan istilah-istilah yang menggunakan bahasa Inggris.\\n\\n\\n\\n\\n\\n\\n\\ngerman class - bonus\\n\\nJika peserta sudah memiliki kemampuan dasar bahasa Inggris tetapi ingin menambah kemampuan bahasa asing lain, maka kami memberikan kesempatan untuk belajar dasar-dasar bahasa Jerman untuk level pemula.\\n\\n\\n\\n\\n\\n\\n\\n\\n\\n\\n\\n\\n\\n\\nSyarat mengikuti GenerativeAI Academy \\n\\n\\n\\nGenerative AI Academy merupakan program lanjutan yang disediakan oleh DTSense. Sehingga untuk mengikuti program ini, calon peserta perlu memiliki atau mempelajari pengetahuan dasar mengenai data science & programming menggunakan Python. Untuk Peserta yang mau belajar dari awal atau tingkat lanjut, bisa mengikuti Generative AI Engineer Career Fast Track. Beberapa tema yang perlu dikuasai oleh calon peserta sebelum mengikuti program ini diantaranya: \\n\\n\\n\\n\\n\\n\\n \\nMengerti penggunaan Python Collections: List, Dictionary, Array, Tuple\\n\\n\\n\\n \\nMengert konsep looping & control flow: While loop & For loop\\n\\n\\n\\n \\nMengerti penggunaan NumPy untuk simple metric calculation\\n\\n\\n\\n \\nMengerti cara mengolah dataset dengan Pandas DataFrame\\n\\n\\n\\n \\nMengerti cara membuat self-defined functions (def)\\n\\n\\n\\n \\nMengerti bagaimana cara memvisualisasikan data secara sederhana menggunakan Matplotlib & Seaborn\\n\\n\\n\\n \\nMengerti basic Artificial Intelligence dan Machine Learning\\n\\n\\n\\n\\n\\n\\n\\n\\n\\n\\n\\n\\n\\n\\n\\n\\n\\n\\n\\n\\n\\n\\nReady to be the next GenAI Engineer? \\n\\n\\n\\n\\n\\n\\nDaftar sekarang\\n\\n\\n\\n\\n\\n\\n\\n\\n\\n\\n\\n\\n\\n\\n\\n\\n\\n \\n\\n \\n\\n \\n\\n\\n\\n\\n\\n\\n\\n\\n\\n\\n\\n\\n\\n\\n\\n\\t\\t\\t\\tTrending now\\n\\n\\n\\n\\n\\n\\n\\n\\n\\n\\n\\n\\n\\nUnsupervised Learning : ClusteringData Scientist: The Sexiest Job of The 21st CenturyIntroduction to Deep LearningForecasting: Time Series Analysis\\n\\n\\n\\n\\n\\n\\n\\n\\n\\n\\n \\n\\n\\n\\nGrow With DTSense \\n\\n\\n\\nBelajar AI & Data Science \\n\\n\\n\\n\\n\\n\\n\\n\\n\\n\\nDaftar academy\\n\\n\\n\\n\\n\\n\\n\\n\\n\\n\\nFacebook\\n \\n\\n\\n\\nYoutube\\n \\n\\n\\n\\nInstagram\\n \\n\\n\\n\\nGithub\\n \\n\\n\\n\\n\\n\\n\\n\\n\\n\\n\\n\\n\\n\\n\\n\\n\\n\\n\\n\\n\\n\\n©  2024 All rights reserved. CV DTSense Intelegensia Academy \\n\\n\\n\\n\\n\\n\\n\\n\\n\\n\\nTwitter\\n\\n\\n\\n\\n\\nFacebook\\n\\n\\n\\n\\n\\nDribbble\\n\\n\\n\\n\\n\\nYoutube\\n\\n\\n\\n\\n\\nPinterest\\n\\n\\n\\n\\n\\nMedium\\n\\n\\n\\n\\n\\n\\n\\n\\n\\n\\n\\n\\nWe use cookies on our website to give you the most relevant experience by remembering your preferences and repeat visits. By clicking “Accept All”, you consent to the use of ALL the cookies. However, you may visit \"Cookie Settings\" to provide a controlled consent.Cookie SettingsAccept AllManage consent\\n\\n\\n\\n\\nClose\\n\\n\\n\\n\\n\\n\\nPrivacy Overview \\nThis website uses cookies to improve your experience while you navigate through the website. Out of these, the cookies that are categorized as necessary are stored on your browser as they are essential for the working of basic functionalities of the website. We also use third-party cookies that help us analyze and understand how you use this website. These cookies will be stored in your browser only with your consent. You also have the option to opt-out of these cookies. But opting out of some of these cookies may affect your browsing experience.\\n\\n \\n\\n\\n\\n\\n\\n\\t\\t\\t\\t\\t\\t\\t\\tNecessary\\t\\t\\t\\t\\t\\t\\t\\n\\n\\nNecessary\\n\\nAlways Enabled\\n\\n\\n\\n\\n\\t\\t\\t\\t\\t\\t\\t\\t\\tNecessary cookies are absolutely essential for the website to function properly. These cookies ensure basic functionalities and security features of the website, anonymously.\\nCookieDurationDescriptioncookielawinfo-checkbox-analytics11 monthsThis cookie is set by GDPR Cookie Consent plugin. The cookie is used to store the user consent for the cookies in the category \"Analytics\".cookielawinfo-checkbox-functional11 monthsThe cookie is set by GDPR cookie consent to record the user consent for the cookies in the category \"Functional\".cookielawinfo-checkbox-necessary11 monthsThis cookie is set by GDPR Cookie Consent plugin. The cookies is used to store the user consent for the cookies in the category \"Necessary\".cookielawinfo-checkbox-others11 monthsThis cookie is set by GDPR Cookie Consent plugin. The cookie is used to store the user consent for the cookies in the category \"Other.cookielawinfo-checkbox-performance11 monthsThis cookie is set by GDPR Cookie Consent plugin. The cookie is used to store the user consent for the cookies in the category \"Performance\".viewed_cookie_policy11 monthsThe cookie is set by the GDPR Cookie Consent plugin and is used to store whether or not user has consented to the use of cookies. It does not store any personal data. \\n\\n\\n\\n\\n\\n\\n\\t\\t\\t\\t\\t\\t\\t\\tFunctional\\t\\t\\t\\t\\t\\t\\t\\n\\n\\nFunctional\\n\\n\\n\\n\\n\\n\\t\\t\\t\\t\\t\\t\\t\\t\\tFunctional cookies help to perform certain functionalities like sharing the content of the website on social media platforms, collect feedbacks, and other third-party features.\\n\\t\\t\\t\\t\\t\\t\\t\\t\\n\\n\\n\\n\\n\\n\\n\\t\\t\\t\\t\\t\\t\\t\\tPerformance\\t\\t\\t\\t\\t\\t\\t\\n\\n\\nPerformance\\n\\n\\n\\n\\n\\n\\t\\t\\t\\t\\t\\t\\t\\t\\tPerformance cookies are used to understand and analyze the key performance indexes of the website which helps in delivering a better user experience for the visitors.\\n\\t\\t\\t\\t\\t\\t\\t\\t\\n\\n\\n\\n\\n\\n\\n\\t\\t\\t\\t\\t\\t\\t\\tAnalytics\\t\\t\\t\\t\\t\\t\\t\\n\\n\\nAnalytics\\n\\n\\n\\n\\n\\n\\t\\t\\t\\t\\t\\t\\t\\t\\tAnalytical cookies are used to understand how visitors interact with the website. These cookies help provide information on metrics the number of visitors, bounce rate, traffic source, etc.\\n\\t\\t\\t\\t\\t\\t\\t\\t\\n\\n\\n\\n\\n\\n\\n\\t\\t\\t\\t\\t\\t\\t\\tAdvertisement\\t\\t\\t\\t\\t\\t\\t\\n\\n\\nAdvertisement\\n\\n\\n\\n\\n\\n\\t\\t\\t\\t\\t\\t\\t\\t\\tAdvertisement cookies are used to provide visitors with relevant ads and marketing campaigns. These cookies track visitors across websites and collect information to provide customized ads.\\n\\t\\t\\t\\t\\t\\t\\t\\t\\n\\n\\n\\n\\n\\n\\n\\t\\t\\t\\t\\t\\t\\t\\tOthers\\t\\t\\t\\t\\t\\t\\t\\n\\n\\nOthers\\n\\n\\n\\n\\n\\n\\t\\t\\t\\t\\t\\t\\t\\t\\tOther uncategorized cookies are those that are being analyzed and have not been classified into a category as yet.\\n\\t\\t\\t\\t\\t\\t\\t\\t\\n\\n\\n\\n\\n\\n\\n\\n\\n\\n\\n\\n\\nSAVE & ACCEPT\\n\\n\\n\\n\\n\\n\\n\\n\\n\\n\\n\\n\\n\\n\\n\\n\\n\\n\\n\\n\\n\\n\\n\\n\\n\\n\\n\\n\\n\\n\\n\\n\\n\\n\\n')]"
      ]
     },
     "execution_count": 12,
     "metadata": {},
     "output_type": "execute_result"
    }
   ],
   "source": [
    "documents"
   ]
  },
  {
   "cell_type": "code",
   "execution_count": null,
   "metadata": {},
   "outputs": [
    {
     "name": "stderr",
     "output_type": "stream",
     "text": [
      "/Users/muhammadhamdi/Documents/DTS_FEB_25/GEN_AI/introgenai_and_promt/.venv/lib/python3.12/site-packages/sentence_transformers/cross_encoder/CrossEncoder.py:13: TqdmWarning: IProgress not found. Please update jupyter and ipywidgets. See https://ipywidgets.readthedocs.io/en/stable/user_install.html\n",
      "  from tqdm.autonotebook import tqdm, trange\n"
     ]
    }
   ],
   "source": [
    "# Langkah 2: Menggunakan Hugging Face Embeddings untuk membuat vektor dari dokumen\n",
    "# Menggunakan model Hugging Face untuk embedding\n",
    "embeddings = HuggingFaceEmbeddings(model_name=\"sentence-transformers/all-distilroberta-v1\")\n",
    "faiss_index = FAISS.from_documents(documents, embeddings)\n",
    "\n",
    "# faiss_index.save_local(\"doc_index\" + \"/\")"
   ]
  },
  {
   "cell_type": "code",
   "execution_count": 14,
   "metadata": {},
   "outputs": [],
   "source": [
    "faiss_index = FAISS.load_local(\"doc_index\", embeddings, allow_dangerous_deserialization=True)"
   ]
  },
  {
   "cell_type": "code",
   "execution_count": 15,
   "metadata": {},
   "outputs": [],
   "source": [
    "# Langkah 3: Menyusun pertanyaan dan melakukan pencarian berbasis kesamaan\n",
    "query = \"Program apa saja yang ada di DTSense?\"\n",
    "related_docs = faiss_index.similarity_search(query, k=3)  "
   ]
  },
  {
   "cell_type": "code",
   "execution_count": 16,
   "metadata": {},
   "outputs": [
    {
     "name": "stderr",
     "output_type": "stream",
     "text": [
      "/var/folders/pj/3yfymb197hv2f5g4jf72wnkm0000gn/T/ipykernel_19086/2561520368.py:16: LangChainDeprecationWarning: The class `LLMChain` was deprecated in LangChain 0.1.17 and will be removed in 1.0. Use :meth:`~RunnableSequence, e.g., `prompt | llm`` instead.\n",
      "  chain = LLMChain(llm=llm_groq, prompt=prompt_template)\n",
      "/var/folders/pj/3yfymb197hv2f5g4jf72wnkm0000gn/T/ipykernel_19086/2561520368.py:19: LangChainDeprecationWarning: The method `Chain.run` was deprecated in langchain 0.1.0 and will be removed in 1.0. Use :meth:`~invoke` instead.\n",
      "  answer = chain.run(context=context, query=query)\n"
     ]
    }
   ],
   "source": [
    "#Menggabungkan konten dari hasil pencarian\n",
    "context = \"\\n\\n\".join([doc.page_content for doc in related_docs])\n",
    "\n",
    "# Langkah 4: Membuat PromptTemplate untuk menghasilkan respons berbasis kontekstual\n",
    "prompt_template = PromptTemplate(\n",
    "    input_variables=[\"context\", \"query\"],\n",
    "    template=\"\"\"\n",
    "    Berdasarkan informasi berikut, jawab pertanyaan ini:\\n\n",
    "    Informasi:\\n{context}\\n\n",
    "    Pertanyaan:\\n{query}\n",
    "    \"\"\"\n",
    ")\n",
    "\n",
    "# Langkah 5: Inisialisasi model OpenAI dan membuat chain\n",
    "# llm = ChatOpenAI(model_name=\"gpt-4o\")\n",
    "chain = LLMChain(llm=llm_groq, prompt=prompt_template)\n",
    "\n",
    "# Memproses query dengan LLM untuk mendapatkan jawaban yang didukung oleh konteks dari FAISS\n",
    "answer = chain.run(context=context, query=query)"
   ]
  },
  {
   "cell_type": "code",
   "execution_count": 17,
   "metadata": {},
   "outputs": [
    {
     "data": {
      "text/plain": [
       "'Berikut adalah program-program yang ada di DTSense:\\n\\n1. Generative AI Academy\\n2. Generative AI Engineer Career Fast-Track\\n3. Academy I: Data Analytics Track\\n4. Academy II: AI & Machine Learning\\n5. Academy III: Deep Learning & Reinforcement Learning'"
      ]
     },
     "execution_count": 17,
     "metadata": {},
     "output_type": "execute_result"
    }
   ],
   "source": [
    "answer"
   ]
  },
  {
   "cell_type": "code",
   "execution_count": 18,
   "metadata": {},
   "outputs": [
    {
     "data": {
      "text/plain": [
       "'Pada hari ke 5, peserta akan mempelajari \"Introduction to GenAI & Prompt Engineering (LLM Models, e.g: GPT3.5, GPT4o, LLAMA2,LLAMA3, DBRX)\".'"
      ]
     },
     "execution_count": 18,
     "metadata": {},
     "output_type": "execute_result"
    }
   ],
   "source": [
    "chain.run(context=context, query='Apa yang dipelajari pada hari ke 5?')"
   ]
  },
  {
   "cell_type": "code",
   "execution_count": 19,
   "metadata": {},
   "outputs": [
    {
     "data": {
      "text/plain": [
       "'Berdasarkan informasi yang diberikan, kelebihan dari Generative AI Engineer Career Fast-Track adalah:\\n\\n* Peserta akan belajar materi yang ada di Generative AI Academy ditambah dengan kelas tambahan seperti Data Analytics, AI Engineering, Advanced LLM topic, dan juga sesi untuk support Karir/Akademik/Beasiswa untuk ke Luar Negeri, khususnya di Eropa.\\n* Peserta yang lulus dalam program ini bisa lebih siap untuk berkarir menjadi GenAI Engineer di dalam Negeri maupun di luar Negeri.\\n* Estimasi gaji GenAI Engineer di United States: $130,518 / ~2.1 Milyar Rupiah dan di Eropa - Jerman: €71,060 / ~1.25 Milyar Rupiah.\\n\\nDengan demikian, kelebihan dari career track ini adalah peserta akan mendapatkan pengetahuan dan keterampilan yang lebih luas dan mendalam, serta memiliki peluang yang lebih baik untuk berkarir di bidang GenAI Engineer dengan gaji yang lebih tinggi.'"
      ]
     },
     "execution_count": 19,
     "metadata": {},
     "output_type": "execute_result"
    }
   ],
   "source": [
    "chain.run(context=context, query='Apa kelebihan career track?')"
   ]
  },
  {
   "cell_type": "code",
   "execution_count": null,
   "metadata": {},
   "outputs": [],
   "source": []
  }
 ],
 "metadata": {
  "kernelspec": {
   "display_name": ".venv",
   "language": "python",
   "name": "python3"
  },
  "language_info": {
   "codemirror_mode": {
    "name": "ipython",
    "version": 3
   },
   "file_extension": ".py",
   "mimetype": "text/x-python",
   "name": "python",
   "nbconvert_exporter": "python",
   "pygments_lexer": "ipython3",
   "version": "3.12.9"
  }
 },
 "nbformat": 4,
 "nbformat_minor": 2
}
